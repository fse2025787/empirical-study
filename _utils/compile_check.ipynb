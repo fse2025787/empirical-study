{
 "cells": [
  {
   "cell_type": "code",
   "execution_count": null,
   "metadata": {},
   "outputs": [],
   "source": [
    "import solcx\n",
    "solcx.get_installed_solc_versions()\n",
    "solcx.get_installable_solc_versions()\n",
    "# solcx.install_solc(version=\"0.7.6\", show_progress=False, solcx_binary_path=None)"
   ]
  },
  {
   "cell_type": "code",
   "execution_count": null,
   "metadata": {},
   "outputs": [],
   "source": [
    "import pandas as pd\n",
    "df = pd.read_csv(r\"smart-contract-sanctuary-ethereum_contracts_mainnet_contracts_deduplicate_sample.csv\", encoding=\"utf-8\", header=0)"
   ]
  },
  {
   "cell_type": "code",
   "execution_count": null,
   "metadata": {},
   "outputs": [],
   "source": [
    "import os\n",
    "import logging\n",
    "import traceback\n",
    "\n",
    "def getFilePathWithSameAddress(root_path,address):\n",
    "    file_dir_path = os.path.join(root_path, str(address[2:4]).lower())\n",
    "    path_arr = \"\"\n",
    "    try:\n",
    "        file_names = os.listdir(file_dir_path)\n",
    "        path_arr = [os.path.join(file_dir_path,f) for f in file_names if (m := re.match(str(address[2:]).lower()+\".*\",str(f).lower()))]\n",
    "    except:\n",
    "        logging.warning(traceback.format_exc())\n",
    "    if len(path_arr)==0:\n",
    "        logging.debug(\"INFO: Cannot find contract {0} files.\".format(address))\n",
    "    return path_arr"
   ]
  },
  {
   "cell_type": "code",
   "execution_count": null,
   "metadata": {},
   "outputs": [],
   "source": [
    "logging.basicConfig(format='%(asctime)s - %(filename)s[line:%(lineno)d] - %(levelname)s: %(message)s',\n",
    "                        level=logging.DEBUG,\n",
    "                        filename= os.path.join(os.path.abspath(\".\"),'compile_check.ipynb.log'),\n",
    "                        filemode='w') \n",
    "path_input_dataset = r\"./smart-contract-sanctuary-ethereum/contracts/mainnet\"\n",
    "path_output_csv = r\"smart-contract-sanctuary-ethereum_contracts_mainnet_contracts_compile_check.csv\"\n",
    "\n",
    "list_error = []\n",
    "list_more_than_one_file = []\n",
    "\n",
    "for index, row in df.iterrows():\n",
    "    path_arr = getFilePathWithSameAddress(path_input_dataset,row[\"address\"])\n",
    "    if len(path_arr) > 1:\n",
    "        list_more_than_one_file.append(row[\"address\"])\n",
    "        break\n",
    "    try:\n",
    "        print(str(row[\"compiler\"]).strip().replace(\"v\",\"\"))\n",
    "        print(path_arr[0])\n",
    "        solcx.compile_files(path_arr[0],output_values=[\"abi\"],solc_version=str(row[\"compiler\"]).strip().replace(\"v\",\"\"))\n",
    "    except:\n",
    "        list_error.append(index)\n",
    "        logging.warning(traceback.format_exc())\n",
    "        print(\"ERROR:Index {0}, {1} cannot be compiled successfully\".format(index,path_arr))\n",
    "print(\"The total number of contracts that has more than one file: {0}\".format(len(list_more_than_one_file)))\n",
    "print(\"The total number of contracts that failed to compile: {0}\".format(len(list_error)))"
   ]
  }
 ],
 "metadata": {
  "kernelspec": {
   "display_name": "Python 3.9.16 ('antlr4')",
   "language": "python",
   "name": "python3"
  },
  "language_info": {
   "codemirror_mode": {
    "name": "ipython",
    "version": 3
   },
   "file_extension": ".py",
   "mimetype": "text/x-python",
   "name": "python",
   "nbconvert_exporter": "python",
   "pygments_lexer": "ipython3",
   "version": "3.9.16"
  },
  "orig_nbformat": 4,
  "vscode": {
   "interpreter": {
    "hash": "b4e80c75842e8e4bc34609cc3a901f62cafae8efa84e6363cc4f6eb923526925"
   }
  }
 },
 "nbformat": 4,
 "nbformat_minor": 2
}
