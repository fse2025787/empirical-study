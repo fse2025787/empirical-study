{
 "cells": [
  {
   "cell_type": "markdown",
   "metadata": {},
   "source": [
    "## results from json to csv"
   ]
  },
  {
   "cell_type": "code",
   "execution_count": 2,
   "metadata": {},
   "outputs": [],
   "source": [
    "import json\n",
    "json_file_name = \"DBLP_publication_search_results.json\"\n",
    "with open(json_file_name,\"r\",encoding=\"UTF-8\") as f:\n",
    "    paper_22 = json.load(f)"
   ]
  },
  {
   "cell_type": "code",
   "execution_count": 3,
   "metadata": {},
   "outputs": [],
   "source": [
    "# data = {\"title\":[],\"url\":[],\"year\":[],\"authors\":[],\"venue\":[],\"type\":[],\"access\":[],\"key\":[],\"ee\":[]}\n",
    "data = {\"title\":[]\n",
    "        # ,\"url\":[]\n",
    "        ,\"year\":[]\n",
    "        # ,\"authors\":[]\n",
    "        ,\"venue\":[]\n",
    "        # ,\"type\":[]\n",
    "        # ,\"access\":[]\n",
    "        # ,\"key\":[]\n",
    "        ,\"ee\":[]\n",
    "        }\n",
    "\n",
    "def get_info(item:dict,data:dict):\n",
    "    if \"title\" in item[\"info\"].keys():\n",
    "        data[\"title\"].append(item[\"info\"][\"title\"])\n",
    "    else:\n",
    "        data[\"title\"].append(\"\")\n",
    "    \n",
    "    # if \"url\" in item[\"info\"].keys():\n",
    "    #     data[\"url\"].append(item[\"info\"][\"url\"])\n",
    "    # else:\n",
    "    #     data[\"url\"].append('')\n",
    "    \n",
    "    if \"year\" in item[\"info\"].keys():\n",
    "        data[\"year\"].append(item[\"info\"][\"year\"])\n",
    "    else:\n",
    "        data[\"year\"].append('')\n",
    "    \n",
    "    # if \"authors\" in item[\"info\"].keys():\n",
    "    #     data[\"authors\"].append([a[\"text\"] for a in item[\"info\"][\"authors\"][\"author\"] if isinstance(a,dict)])\n",
    "    # else:\n",
    "    #     data[\"authors\"].append('')\n",
    "    \n",
    "    if \"venue\" in item[\"info\"].keys():\n",
    "        data[\"venue\"].append(item[\"info\"][\"venue\"])\n",
    "    else:\n",
    "        data[\"venue\"].append('')\n",
    "    \n",
    "    # if \"type\" in item[\"info\"].keys():\n",
    "    #     data[\"type\"].append(item[\"info\"][\"type\"])\n",
    "    # else:\n",
    "    #     data[\"type\"].append('')\n",
    "        \n",
    "    # if \"access\" in item[\"info\"].keys():\n",
    "    #     data[\"access\"].append(item[\"info\"][\"access\"])\n",
    "    # else:\n",
    "    #     data[\"access\"].append('')\n",
    "        \n",
    "    # if \"key\" in item[\"info\"].keys():\n",
    "    #     data[\"key\"].append(item[\"info\"][\"key\"])\n",
    "    # else:\n",
    "    #     data[\"key\"].append('')\n",
    "    \n",
    "    if \"ee\" in item[\"info\"].keys():\n",
    "        data[\"ee\"].append(item[\"info\"][\"ee\"])\n",
    "    else:\n",
    "        data[\"ee\"].append('')\n",
    "    \n",
    "for item in paper_22[\"result\"][\"hits\"][\"hit\"]:\n",
    "    get_info(item,data)\n",
    "    \n",
    "\n",
    "import pandas as pd\n",
    "\n",
    "data_pd = pd.DataFrame(data,columns = [\"title\"\n",
    "                                    #    ,\"url\"\n",
    "                                       ,\"year\"\n",
    "                                    #    ,\"authors\"\n",
    "                                       ,\"venue\"\n",
    "                                    #    ,\"type\"\n",
    "                                    #    ,\"access\"\n",
    "                                    #    ,\"key\"\n",
    "                                       ,\"ee\"\n",
    "                                       ])     \n"
   ]
  },
  {
   "cell_type": "code",
   "execution_count": 4,
   "metadata": {},
   "outputs": [
    {
     "name": "stdout",
     "output_type": "stream",
     "text": [
      "<class 'pandas.core.frame.DataFrame'>\n",
      "RangeIndex: 178 entries, 0 to 177\n",
      "Data columns (total 4 columns):\n",
      " #   Column  Non-Null Count  Dtype \n",
      "---  ------  --------------  ----- \n",
      " 0   title   178 non-null    object\n",
      " 1   year    178 non-null    object\n",
      " 2   venue   178 non-null    object\n",
      " 3   ee      178 non-null    object\n",
      "dtypes: object(4)\n",
      "memory usage: 5.7+ KB\n"
     ]
    }
   ],
   "source": [
    "data_pd.info()"
   ]
  },
  {
   "cell_type": "code",
   "execution_count": 5,
   "metadata": {},
   "outputs": [],
   "source": [
    "data_pd.to_csv(f\"{json_file_name}.csv\",index=False)"
   ]
  }
 ],
 "metadata": {
  "kernelspec": {
   "display_name": "py38_gcf",
   "language": "python",
   "name": "python3"
  },
  "language_info": {
   "codemirror_mode": {
    "name": "ipython",
    "version": 3
   },
   "file_extension": ".py",
   "mimetype": "text/x-python",
   "name": "python",
   "nbconvert_exporter": "python",
   "pygments_lexer": "ipython3",
   "version": "3.8.19"
  },
  "orig_nbformat": 4
 },
 "nbformat": 4,
 "nbformat_minor": 2
}
